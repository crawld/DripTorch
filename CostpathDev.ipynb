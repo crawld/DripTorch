{
 "cells": [
  {
   "cell_type": "code",
   "execution_count": 49,
   "id": "81a46248",
   "metadata": {},
   "outputs": [],
   "source": [
    "import numpy as np\n",
    "import heapq\n",
    "import matplotlib.pyplot as plt"
   ]
  },
  {
   "cell_type": "code",
   "execution_count": 50,
   "id": "e58512cd",
   "metadata": {},
   "outputs": [],
   "source": [
    "class Raster:\n",
    "    \n",
    "    def __init__(self,raster:np.ndarray,noData:float=np.nan) -> None:\n",
    "        self.rows,self.cols = raster.shape\n",
    "        self.raster = raster.flatten()\n",
    "        self.inds = np.arange(self.raster.shape[0])\n",
    "        \n",
    "        self.neighbor_Kernel = [-self.cols-1,-self.cols,-self.cols+1,-1,1,self.cols-1,self.cols,self.cols+1] \n",
    "        \n",
    "    def get_Index(self,index:int) -> np.ndarray:\n",
    "        # Return the 2d index given the 1d index\n",
    "        return np.array([index//self.cols,index%self.cols]).astype(int)\n",
    "    \n",
    "    def get_Neighbors(self,index:int) -> list:\n",
    "        \"\"\"\n",
    "        Return the 1d neighborhood indicies for the neighborhood of a given pixel and check bounds\n",
    "        -------+-------+-----\n",
    "        -cols-1| -cols | -cols+1\n",
    "        -------+-------+-----\n",
    "        -1     | 0     | +1\n",
    "        -------+-------+-----\n",
    "        cols-1 | cols  | cols+1\n",
    "        -------+-------+-----\n",
    "        + index\n",
    "        \"\"\"\n",
    "        matcoords = np.array(self.get_Index(index)) # get 2d coords\n",
    "        neighborhood = self.neighbor_Kernel + index\n",
    "        \n",
    "        # check if we are at the boundary\n",
    "        if matcoords[0] <= 0: # If we are at the first row\n",
    "            neighborhood[:3] = -999\n",
    "            \n",
    "        if matcoords[0] >= self.rows-1: # If we are at the last row\n",
    "            neighborhood[-3:] = -999\n",
    "            \n",
    "        if matcoords[1] <= self.cols-1: # If we are at the first column\n",
    "            remove = [0,3,5]\n",
    "            neighborhood[remove] = -999\n",
    "            \n",
    "        if matcoords[1] >= self.cols-1: # If we are at the last column\n",
    "            remove = [2,4,7]\n",
    "            neighborhood[remove] = -999\n",
    "        \n",
    "        # remove out of bounds inds\n",
    "        neighborhood = list(filter(lambda ind: ind != -999, neighborhood))\n",
    "     \n",
    "        # get 2d locs of neighborhood\n",
    "        \n",
    "        locs = [self.get_Index(x) for x in neighborhood]\n",
    "      \n",
    "        # get 2d distance to each point and stash that with index in the tuple\n",
    "      \n",
    "        distances = [np.linalg.norm((x-matcoords)) for x in locs]\n",
    "        \n",
    "        # join neighborhood indicies and their respective distances from the origin point\n",
    "        \n",
    "        \n",
    "        \n",
    "        neighbors_dists = list(zip([index]*len(neighborhood),neighborhood,distances))\n",
    "        \n",
    "        return neighbors_dists\n",
    "    \n",
    "    \n",
    "        \n",
    "    \n",
    "        \n",
    "        "
   ]
  },
  {
   "cell_type": "code",
   "execution_count": null,
   "id": "9c59893a",
   "metadata": {},
   "outputs": [],
   "source": []
  },
  {
   "cell_type": "code",
   "execution_count": 51,
   "id": "f55f6644",
   "metadata": {},
   "outputs": [],
   "source": [
    "elevs = np.load(\"/Users/franklyndunbar/Project/testarea.npy\")\n",
    "source_raster = np.zeros_like(elevs).astype(bool)\n",
    "cost_raster = np.ones_like(elevs)\n",
    "cost_raster *= np.inf\n",
    "source_slice = np.s_[0,:]\n",
    "source_raster[source_slice] = True\n",
    "cost_raster[source_slice] = 0\n",
    "\n",
    "#elevs = np.ones_like(elevs)*1000"
   ]
  },
  {
   "cell_type": "code",
   "execution_count": 52,
   "id": "d37e229b",
   "metadata": {},
   "outputs": [
    {
     "data": {
      "image/png": "[encoded data removed]",
      "text/plain": [
       "<Figure size 1440x810 with 3 Axes>"
      ]
     },
     "metadata": {
      "needs_background": "light"
     },
     "output_type": "display_data"
    }
   ],
   "source": [
    "plt.subplot(1,3,1)\n",
    "plt.imshow(elevs)\n",
    "plt.subplot(1,3,2)\n",
    "plt.imshow(source_raster)\n",
    "plt.subplot(1,3,3)\n",
    "plt.imshow(cost_raster)\n",
    "plt.show()"
   ]
  },
  {
   "cell_type": "code",
   "execution_count": 53,
   "id": "c19d45d3",
   "metadata": {},
   "outputs": [
    {
     "name": "stdout",
     "output_type": "stream",
     "text": [
      "(97, 75)\n"
     ]
    }
   ],
   "source": [
    "print(cost_raster.shape)\n",
    "elev_raster = Raster(elevs)\n",
    "cost_raster = Raster(cost_raster)\n",
    "source_raster = Raster(source_raster)"
   ]
  },
  {
   "cell_type": "code",
   "execution_count": 54,
   "id": "00a71882",
   "metadata": {},
   "outputs": [],
   "source": [
    "def compute_costs(edge_set:list,elevs:np.ndarray,costs:np.ndarray) -> list:\n",
    "    computed_costs = []\n",
    "    for edges in edge_set:\n",
    "        for edge in edges:\n",
    "           \n",
    "            start,stop,distance = edge\n",
    "            dz = elevs[start] - elevs[stop]\n",
    "            move_length = np.sqrt(distance + dz**2)\n",
    "            \n",
    "            cost = costs[start] + 0.5*distance*(costs[start]+new_cost)\n",
    "            computed_costs.append((cost,stop))\n",
    "    return computed_costs\n",
    "        "
   ]
  },
  {
   "cell_type": "code",
   "execution_count": 55,
   "id": "97d9cbf1",
   "metadata": {},
   "outputs": [
    {
     "name": "stdout",
     "output_type": "stream",
     "text": [
      "[(0, 1, 1.0), (0, 75, 1.0), (0, 76, 1.4142135623730951)]\n"
     ]
    }
   ],
   "source": [
    "# Init priority queue\n",
    "PQ = []\n",
    "heapq.heapify(PQ)\n",
    "\n",
    "# Get source locations\n",
    "source_locations = source_raster.inds[source_raster.raster]\n",
    "\n",
    "# Get source elevations\n",
    "source_elevs = elev_raster.raster[source_locations]\n",
    "\n",
    "# Get source neighbors\n",
    "\n",
    "source_neighbors = [source_raster.get_Neighbors(index) for index in source_locations]\n",
    "print(source_neighbors[0])"
   ]
  },
  {
   "cell_type": "code",
   "execution_count": 56,
   "id": "80bd52b1",
   "metadata": {},
   "outputs": [],
   "source": [
    "init_costs = compute_costs(source_neighbors,elev_raster.raster,cost_raster.raster)"
   ]
  },
  {
   "cell_type": "code",
   "execution_count": 57,
   "id": "1a4f4302",
   "metadata": {},
   "outputs": [],
   "source": [
    "for c in init_costs:\n",
    "    heapq.heappush(PQ,c)\n"
   ]
  },
  {
   "cell_type": "code",
   "execution_count": 58,
   "id": "bae6d7a1",
   "metadata": {},
   "outputs": [
    {
     "name": "stdout",
     "output_type": "stream",
     "text": [
      "223\n"
     ]
    }
   ],
   "source": [
    "print(len(PQ))"
   ]
  },
  {
   "cell_type": "code",
   "execution_count": 59,
   "id": "e76d5f8b",
   "metadata": {},
   "outputs": [
    {
     "ename": "KeyboardInterrupt",
     "evalue": "",
     "output_type": "error",
     "traceback": [
      "\u001b[0;31m---------------------------------------------------------------------------\u001b[0m",
      "\u001b[0;31mKeyboardInterrupt\u001b[0m                         Traceback (most recent call last)",
      "Input \u001b[0;32mIn [59]\u001b[0m, in \u001b[0;36m<cell line: 2>\u001b[0;34m()\u001b[0m\n\u001b[1;32m      8\u001b[0m cost_raster\u001b[38;5;241m.\u001b[39mraster[loc] \u001b[38;5;241m=\u001b[39m cost\n\u001b[1;32m      9\u001b[0m neighbors \u001b[38;5;241m=\u001b[39m [cost_raster\u001b[38;5;241m.\u001b[39mget_Neighbors(loc)]\n\u001b[0;32m---> 11\u001b[0m neighbor_costs \u001b[38;5;241m=\u001b[39m \u001b[43mcompute_costs\u001b[49m\u001b[43m(\u001b[49m\u001b[43mneighbors\u001b[49m\u001b[43m,\u001b[49m\u001b[43melev_raster\u001b[49m\u001b[38;5;241;43m.\u001b[39;49m\u001b[43mraster\u001b[49m\u001b[43m,\u001b[49m\u001b[43mcost_raster\u001b[49m\u001b[38;5;241;43m.\u001b[39;49m\u001b[43mraster\u001b[49m\u001b[43m)\u001b[49m\n\u001b[1;32m     12\u001b[0m \u001b[38;5;28;01mfor\u001b[39;00m c \u001b[38;5;129;01min\u001b[39;00m neighbor_costs:\n\u001b[1;32m     13\u001b[0m     heapq\u001b[38;5;241m.\u001b[39mheappush(PQ,c)\n",
      "Input \u001b[0;32mIn [54]\u001b[0m, in \u001b[0;36mcompute_costs\u001b[0;34m(edge_set, elevs, costs)\u001b[0m\n\u001b[1;32m      6\u001b[0m start,stop,distance \u001b[38;5;241m=\u001b[39m edge\n\u001b[1;32m      7\u001b[0m dz \u001b[38;5;241m=\u001b[39m elevs[start] \u001b[38;5;241m-\u001b[39m elevs[stop]\n\u001b[0;32m----> 8\u001b[0m new_cost \u001b[38;5;241m=\u001b[39m np\u001b[38;5;241m.\u001b[39msqrt(distance\u001b[38;5;241m*\u001b[39m\u001b[38;5;241m*\u001b[39m\u001b[38;5;241m2\u001b[39m \u001b[38;5;241m+\u001b[39m \u001b[43mdz\u001b[49m\u001b[38;5;241;43m*\u001b[39;49m\u001b[38;5;241;43m*\u001b[39;49m\u001b[38;5;241;43m2\u001b[39;49m)\n\u001b[1;32m     10\u001b[0m cost \u001b[38;5;241m=\u001b[39m \u001b[38;5;241m0.5\u001b[39m\u001b[38;5;241m*\u001b[39mdistance\u001b[38;5;241m*\u001b[39m(costs[start]\u001b[38;5;241m+\u001b[39mnew_cost)\n\u001b[1;32m     11\u001b[0m computed_costs\u001b[38;5;241m.\u001b[39mappend((cost,stop))\n",
      "\u001b[0;31mKeyboardInterrupt\u001b[0m: "
     ]
    }
   ],
   "source": [
    "iters = 0\n",
    "while len(PQ) > 0:\n",
    " \n",
    "    cost,loc = heapq.heappop(PQ)\n",
    "    if cost > cost_raster.raster[loc]:\n",
    "        continue\n",
    "    else:\n",
    "        cost_raster.raster[loc] = cost\n",
    "        neighbors = [cost_raster.get_Neighbors(loc)]\n",
    "      \n",
    "        neighbor_costs = compute_costs(neighbors,elev_raster.raster,cost_raster.raster)\n",
    "        for c in neighbor_costs:\n",
    "            heapq.heappush(PQ,c)\n",
    "       \n",
    "        \n",
    "        "
   ]
  },
  {
   "cell_type": "code",
   "execution_count": null,
   "id": "db4afc56",
   "metadata": {},
   "outputs": [],
   "source": [
    "test = cost_raster.raster"
   ]
  },
  {
   "cell_type": "code",
   "execution_count": null,
   "id": "13460bce",
   "metadata": {},
   "outputs": [],
   "source": [
    "plt.rcParams[\"figure.figsize\"] = (160/8,90/8)\n",
    "plt.imshow(test.reshape(cost_raster.rows,cost_raster.cols))\n",
    "plt.plot()\n",
    "plt.colorbar()\n",
    "plt.show()"
   ]
  },
  {
   "cell_type": "code",
   "execution_count": null,
   "id": "92dc0bb2",
   "metadata": {},
   "outputs": [],
   "source": []
  }
 ],
 "metadata": {
  "kernelspec": {
   "display_name": "Python 3 (ipykernel)",
   "language": "python",
   "name": "python3"
  },
  "language_info": {
   "codemirror_mode": {
    "name": "ipython",
    "version": 3
   },
   "file_extension": ".py",
   "mimetype": "text/x-python",
   "name": "python",
   "nbconvert_exporter": "python",
   "pygments_lexer": "ipython3",
   "version": "3.9.12"
  }
 },
 "nbformat": 4,
 "nbformat_minor": 5
}
