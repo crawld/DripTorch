{
 "cells": [
  {
   "cell_type": "code",
   "execution_count": 74,
   "id": "1198f9be",
   "metadata": {},
   "outputs": [],
   "source": [
    "import numpy as np\n",
    "import heapq\n",
    "import matplotlib.pyplot as plt"
   ]
  },
  {
   "cell_type": "code",
   "execution_count": 75,
   "id": "7233e1f9",
   "metadata": {},
   "outputs": [],
   "source": [
    "class Raster:\n",
    "    \n",
    "    def __init__(self,raster:np.ndarray,noData:float=np.nan) -> None:\n",
    "        self.rows,self.cols = raster.shape\n",
    "        self.raster = raster.flatten()\n",
    "        self.inds = np.arange(self.raster.shape[0])\n",
    "        \n",
    "        self.neighbor_Kernel = [-self.cols-1,-self.cols,-self.cols+1,-1,1,self.cols-1,self.cols,self.cols+1] \n",
    "        \n",
    "    def get_Index(self,index:int) -> np.ndarray:\n",
    "        # Return the 2d index given the 1d index\n",
    "        return np.array([index//self.cols,index%self.cols]).astype(int)\n",
    "    \n",
    "    def get_Neighbors(self,index:int) -> list:\n",
    "        \"\"\"\n",
    "        Return the 1d neighborhood indicies for the neighborhood of a given pixel and check bounds\n",
    "        -------+-------+-----\n",
    "        -cols-1| -cols | -cols+1\n",
    "        -------+-------+-----\n",
    "        -1     | 0     | +1\n",
    "        -------+-------+-----\n",
    "        cols-1 | cols  | cols+1\n",
    "        -------+-------+-----\n",
    "        + index\n",
    "        \"\"\"\n",
    "        matcoords = np.array(self.get_Index(index)) # get 2d coords\n",
    "        neighborhood = self.neighbor_Kernel + index\n",
    "        \n",
    "        # check if we are at the boundary\n",
    "        if matcoords[0] <= 0: # If we are at the first row\n",
    "            neighborhood[:3] = -999\n",
    "            \n",
    "        if matcoords[0] >= self.rows-1: # If we are at the last row\n",
    "            neighborhood[-3:] = -999\n",
    "            \n",
    "        if matcoords[1] <= self.cols-1: # If we are at the first column\n",
    "            remove = [0,3,5]\n",
    "            neighborhood[remove] = -999\n",
    "            \n",
    "        if matcoords[1] >= self.cols-1: # If we are at the last column\n",
    "            remove = [2,4,7]\n",
    "            neighborhood[remove] = -999\n",
    "        \n",
    "        # remove out of bounds inds\n",
    "        neighborhood = list(filter(lambda ind: ind != -999, neighborhood))\n",
    "     \n",
    "        # get 2d locs of neighborhood\n",
    "        \n",
    "        locs = [self.get_Index(x) for x in neighborhood]\n",
    "      \n",
    "        # get 2d distance to each point and stash that with index in the tuple\n",
    "      \n",
    "        distances = [np.linalg.norm((x-matcoords)) for x in locs]\n",
    "        \n",
    "        # join neighborhood indicies and their respective distances from the origin point\n",
    "        \n",
    "        \n",
    "        \n",
    "        neighbors_dists = list(zip([index]*len(neighborhood),neighborhood,distances))\n",
    "        \n",
    "        return neighbors_dists\n",
    "    \n",
    "    \n",
    "        \n",
    "    \n",
    "        \n",
    "        "
   ]
  },
  {
   "cell_type": "code",
   "execution_count": null,
   "id": "86c54f9b",
   "metadata": {},
   "outputs": [],
   "source": []
  },
  {
   "cell_type": "code",
   "execution_count": 76,
   "id": "1e40fc00",
   "metadata": {},
   "outputs": [],
   "source": [
    "elevs = np.load(\"/Users/franklyndunbar/Project/testarea.npy\")\n",
    "source_raster = np.zeros_like(elevs).astype(bool)\n",
    "cost_raster = np.ones_like(elevs)\n",
    "cost_raster *= np.inf\n",
    "source_slice = np.s_[0,:]\n",
    "source_raster[source_slice] = True\n",
    "cost_raster[source_slice] = 0\n",
    "\n",
    "#elevs = np.ones_like(elevs)*1000"
   ]
  },
  {
   "cell_type": "code",
   "execution_count": 77,
   "id": "49a1e79a",
   "metadata": {},
   "outputs": [
    {
     "data": {
      "image/png": "[encoded data removed]",
      "text/plain": [
       "<Figure size 1440x810 with 3 Axes>"
      ]
     },
     "metadata": {
      "needs_background": "light"
     },
     "output_type": "display_data"
    }
   ],
   "source": [
    "plt.subplot(1,3,1)\n",
    "plt.imshow(elevs)\n",
    "plt.subplot(1,3,2)\n",
    "plt.imshow(source_raster)\n",
    "plt.subplot(1,3,3)\n",
    "plt.imshow(cost_raster)\n",
    "plt.show()"
   ]
  },
  {
   "cell_type": "code",
   "execution_count": 78,
   "id": "212c918a",
   "metadata": {},
   "outputs": [
    {
     "name": "stdout",
     "output_type": "stream",
     "text": [
      "(97, 75)\n"
     ]
    }
   ],
   "source": [
    "print(cost_raster.shape)\n",
    "elev_raster = Raster(elevs)\n",
    "cost_raster = Raster(cost_raster)\n",
    "source_raster = Raster(source_raster)"
   ]
  },
  {
   "cell_type": "code",
   "execution_count": 79,
   "id": "adb176a9",
   "metadata": {},
   "outputs": [],
   "source": [
    "def compute_costs(edge_set:list,elevs:np.ndarray,costs:np.ndarray) -> list:\n",
    "    computed_costs = []\n",
    "    for edges in edge_set:\n",
    "        for edge in edges:\n",
    "           \n",
    "            start,stop,distance = edge\n",
    "            dz = elevs[start] - elevs[stop]\n",
    "            move_length = np.sqrt(distance**2 + dz**2)\n",
    "            \n",
    "            cost = costs[start] + move_length\n",
    "            computed_costs.append((cost,stop))\n",
    "    return computed_costs\n",
    "        "
   ]
  },
  {
   "cell_type": "code",
   "execution_count": null,
   "id": "6af0c6ed",
   "metadata": {},
   "outputs": [],
   "source": []
  },
  {
   "cell_type": "code",
   "execution_count": 80,
   "id": "f9ded456",
   "metadata": {},
   "outputs": [
    {
     "name": "stdout",
     "output_type": "stream",
     "text": [
      "[(0, 1, 1.0), (0, 75, 1.0), (0, 76, 1.4142135623730951)]\n"
     ]
    }
   ],
   "source": [
    "# Init priority queue\n",
    "PQ = []\n",
    "heapq.heapify(PQ)\n",
    "\n",
    "# Get source locations\n",
    "source_locations = source_raster.inds[source_raster.raster]\n",
    "\n",
    "# Get source elevations\n",
    "source_elevs = elev_raster.raster[source_locations]\n",
    "\n",
    "# Get source neighbors\n",
    "\n",
    "source_neighbors = [source_raster.get_Neighbors(index) for index in source_locations]\n",
    "print(source_neighbors[0])"
   ]
  },
  {
   "cell_type": "code",
   "execution_count": 81,
   "id": "880e3087",
   "metadata": {},
   "outputs": [],
   "source": [
    "init_costs = compute_costs(source_neighbors,elev_raster.raster,cost_raster.raster)"
   ]
  },
  {
   "cell_type": "code",
   "execution_count": 82,
   "id": "5893af84",
   "metadata": {},
   "outputs": [],
   "source": [
    "for c in init_costs:\n",
    "    heapq.heappush(PQ,c)\n"
   ]
  },
  {
   "cell_type": "code",
   "execution_count": 83,
   "id": "9041abc6",
   "metadata": {},
   "outputs": [
    {
     "name": "stdout",
     "output_type": "stream",
     "text": [
      "223\n"
     ]
    }
   ],
   "source": [
    "print(len(PQ))"
   ]
  },
  {
   "cell_type": "code",
   "execution_count": 84,
   "id": "83da8f17",
   "metadata": {},
   "outputs": [],
   "source": [
    "iters = 0\n",
    "while len(PQ) > 0:\n",
    " \n",
    "    cost,loc = heapq.heappop(PQ)\n",
    "    if cost > cost_raster.raster[loc]:\n",
    "        continue\n",
    "    else:\n",
    "        cost_raster.raster[loc] = cost\n",
    "        neighbors = [cost_raster.get_Neighbors(loc)]\n",
    "      \n",
    "        neighbor_costs = compute_costs(neighbors,elev_raster.raster,cost_raster.raster)\n",
    "        for c in neighbor_costs:\n",
    "            heapq.heappush(PQ,c)\n",
    "       \n",
    "        \n",
    "        "
   ]
  },
  {
   "cell_type": "code",
   "execution_count": 85,
   "id": "53a149f7",
   "metadata": {},
   "outputs": [],
   "source": [
    "test = cost_raster.raster"
   ]
  },
  {
   "cell_type": "code",
   "execution_count": 86,
   "id": "135cc35c",
   "metadata": {},
   "outputs": [
    {
     "data": {
      "image/png": "[encoded data removed]",
      "text/plain": [
       "<Figure size 1440x810 with 2 Axes>"
      ]
     },
     "metadata": {
      "needs_background": "light"
     },
     "output_type": "display_data"
    }
   ],
   "source": [
    "plt.rcParams[\"figure.figsize\"] = (160/8,90/8)\n",
    "plt.imshow(test.reshape(cost_raster.rows,cost_raster.cols))\n",
    "plt.plot()\n",
    "plt.colorbar()\n",
    "plt.show()"
   ]
  },
  {
   "cell_type": "code",
   "execution_count": null,
   "id": "0b12bb4b",
   "metadata": {},
   "outputs": [],
   "source": []
  }
 ],
 "metadata": {
  "kernelspec": {
   "display_name": "Python 3 (ipykernel)",
   "language": "python",
   "name": "python3"
  },
  "language_info": {
   "codemirror_mode": {
    "name": "ipython",
    "version": 3
   },
   "file_extension": ".py",
   "mimetype": "text/x-python",
   "name": "python",
   "nbconvert_exporter": "python",
   "pygments_lexer": "ipython3",
   "version": "3.9.12"
  }
 },
 "nbformat": 4,
 "nbformat_minor": 5
}
