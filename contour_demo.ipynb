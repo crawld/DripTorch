{
 "cells": [
  {
   "cell_type": "code",
   "execution_count": null,
   "metadata": {},
   "outputs": [],
   "source": [
    "import folium\n",
    "# Internal Imports\n",
    "sys.path.append(\"/driptorch\")\n",
    "import driptorch as dt\n",
    "from driptorch._grid import Grid,Transform"
   ]
  },
  {
   "cell_type": "code",
   "execution_count": null,
   "metadata": {},
   "outputs": [],
   "source": [
    "\n",
    "import numpy as np \n",
    "import matplotlib.pyplot as plt\n",
    "from scipy.stats import norm\n",
    "import shapely\n",
    "from shapely.geometry import Polygon,Point,shape\n",
    "\n",
    "# Core Imports\n",
    "import json\n",
    "import os.path as path\n"
   ]
  },
  {
   "cell_type": "code",
   "execution_count": null,
   "metadata": {},
   "outputs": [],
   "source": [
    "# Define burn unit spatial data in GeoJSON format\n",
    "elevs = np.squeeze(np.load(\"/Users/franklyndunbar/Project/Silvx/bm_dem.npy\"))\n",
    "\n",
    "#elevs = np.ones_like(elevs)*100\n",
    "transform =  np.load(\"/Users/franklyndunbar/Project/Silvx/bm_transform.npy\")\n",
    "bounds = \"/Users/franklyndunbar/Project/Silvx/bm_geojson.geojson\"\n",
    "\n",
    "with open(bounds,'rb') as _file:\n",
    "    blue_mountain = json.load(_file)\n",
    "\n",
    "polygon = blue_mountain[\"features\"][0][\"geometry\"]\n",
    "polygon[\"type\"] = 'Polygon'\n",
    "coords = np.squeeze(np.array(polygon[\"coordinates\"]))\n",
    "\n",
    "blue_mountain_polygon = Polygon(coords)\n",
    "\n",
    "elev_raster = Grid(\n",
    "    data=elevs,\n",
    "    transform=Transform.from_map_matrix(transform),\n",
    "    epsg=32611)\n",
    "\n",
    "burn_unit = dt.BurnUnit(blue_mountain_polygon,utm_epsg=32611,firing_direction=0,dem=elev_raster)\n",
    "bounds = burn_unit.bounds\n",
    "firing_area = burn_unit.buffer_control_line(5)\n",
    "firing_area = firing_area.buffer_downwind(20)\n",
    "blackline_area = burn_unit.difference(firing_area)\n",
    "dash_igniter = dt.Igniter(1,dash_length=.5)\n",
    "\n",
    "num_igniters = 5\n",
    "igniter_spacing = 5\n",
    "igniter_depth = 5\n",
    "heat_spacing = 10\n",
    "\n",
    "args = {\n",
    "    \"spacing\":igniter_spacing,\n",
    "    \"depth\": igniter_depth,\n",
    "    \"heat_depth\": heat_spacing,\n",
    "    \"cost_raster\": True,\n",
    "    \"sigma\": 1\n",
    "}\n",
    "\n",
    "point_crew = dt.IgnitionCrew.clone_igniter(dash_igniter, num_igniters)\n",
    "technique = dt.firing.StripContour(firing_area, point_crew)\n",
    "pattern,cost_surface = technique.generate_pattern(**args)\n"
   ]
  },
  {
   "cell_type": "code",
   "execution_count": null,
   "metadata": {},
   "outputs": [],
   "source": [
    "points = pattern.to_dict()\n",
    "\n",
    "agg_points = [np.vstack(p[\"coordinates\"]) for p in points[\"geometry\"]]\n",
    "agg_points_arr = np.vstack(agg_points)\n",
    "agg_points_arr = np.hstack([agg_points_arr,np.ones((agg_points_arr.shape[0],1))])\n",
    "world2ind = np.linalg.inv(transform)\n",
    "points_matrix = ((world2ind@agg_points_arr.T).T)[:,:-1]"
   ]
  },
  {
   "cell_type": "code",
   "execution_count": null,
   "metadata": {},
   "outputs": [],
   "source": [
    "fig, axs = plt.subplots(1, 2)\n",
    "fig.set_size_inches(8*2.5,4.5*2.5)\n",
    "axs[0].imshow(cost_surface.reshape())\n",
    "axs[0].scatter(points_matrix[:,0],points_matrix[:,1],c='r',linewidth=.01,alpha=.5)\n",
    "axs[1].imshow(elevs)\n",
    "axs[1].scatter(points_matrix[:,0],points_matrix[:,1],c='r',linewidth=.01,alpha=.5)\n",
    "plt.show()"
   ]
  },
  {
   "cell_type": "code",
   "execution_count": null,
   "metadata": {},
   "outputs": [],
   "source": [
    "# map = dt.Map(burn_unit)\n",
    "# map.add_firing_area(firing_area)\n",
    "# map.add_blackline_area(blackline_area)\n",
    "# map.add_pattern(pattern)\n",
    "# map.show()\n"
   ]
  }
 ],
 "metadata": {
  "kernelspec": {
   "display_name": "Python 3.10.0 ('silvx-driptorch')",
   "language": "python",
   "name": "python3"
  },
  "language_info": {
   "codemirror_mode": {
    "name": "ipython",
    "version": 3
   },
   "file_extension": ".py",
   "mimetype": "text/x-python",
   "name": "python",
   "nbconvert_exporter": "python",
   "pygments_lexer": "ipython3",
   "version": "3.10.0"
  },
  "orig_nbformat": 4,
  "vscode": {
   "interpreter": {
    "hash": "fe5d87f6b9692e375d0efe0f13c63c1117ee90a9b4f744c2e27479f23e596553"
   }
  }
 },
 "nbformat": 4,
 "nbformat_minor": 2
}
